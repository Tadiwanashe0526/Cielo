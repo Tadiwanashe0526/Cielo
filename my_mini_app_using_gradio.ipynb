{
  "nbformat": 4,
  "nbformat_minor": 0,
  "metadata": {
    "colab": {
      "provenance": [],
      "gpuType": "T4",
      "authorship_tag": "ABX9TyPxR5Dg/7ug4S24NCxwEKHM",
      "include_colab_link": true
    },
    "kernelspec": {
      "name": "python3",
      "display_name": "Python 3"
    },
    "language_info": {
      "name": "python"
    },
    "accelerator": "GPU"
  },
  "cells": [
    {
      "cell_type": "markdown",
      "metadata": {
        "id": "view-in-github",
        "colab_type": "text"
      },
      "source": [
        "<a href=\"https://colab.research.google.com/github/Tadiwanashe0526/Cielo/blob/master/my_mini_app_using_gradio.ipynb\" target=\"_parent\"><img src=\"https://colab.research.google.com/assets/colab-badge.svg\" alt=\"Open In Colab\"/></a>"
      ]
    },
    {
      "cell_type": "code",
      "execution_count": 1,
      "metadata": {
        "id": "2KUHx4wDhw-w"
      },
      "outputs": [],
      "source": [
        "import gradio as gr\n",
        "import math\n"
      ]
    },
    {
      "cell_type": "code",
      "source": [
        "def math_powers(number):\n",
        "    square = number ** 2\n",
        "    cube = number ** 3\n",
        "    factorial = math.factorial(int(number))\n",
        "    return {\n",
        "        \"Square\": square,\n",
        "        \"Cube\": cube,\n",
        "        \"Factorial\": factorial\n",
        "    }\n"
      ],
      "metadata": {
        "id": "IqfrXnljiLVW"
      },
      "execution_count": 2,
      "outputs": []
    },
    {
      "cell_type": "code",
      "source": [
        "app = gr.Interface(\n",
        "    fn=math_powers,\n",
        "    inputs=gr.Number(label=\"Enter a Number\"),\n",
        "    outputs=gr.JSON(label=\"Results\"),\n",
        "    title=\"Mini Math Power App\",\n",
        "    description=\"Enter a number to get its square, cube, and factorial instantly!\"\n",
        ")\n"
      ],
      "metadata": {
        "id": "strhAl8GiSur"
      },
      "execution_count": 3,
      "outputs": []
    },
    {
      "cell_type": "code",
      "source": [
        "app.launch(share=True)\n"
      ],
      "metadata": {
        "colab": {
          "base_uri": "https://localhost:8080/",
          "height": 610
        },
        "id": "KDxlVezniYOP",
        "outputId": "fb86c303-53cb-4566-a736-c7047a84d291"
      },
      "execution_count": 4,
      "outputs": [
        {
          "output_type": "stream",
          "name": "stdout",
          "text": [
            "Colab notebook detected. To show errors in colab notebook, set debug=True in launch()\n",
            "* Running on public URL: https://1a1b7593608ea75e1c.gradio.live\n",
            "\n",
            "This share link expires in 1 week. For free permanent hosting and GPU upgrades, run `gradio deploy` from the terminal in the working directory to deploy to Hugging Face Spaces (https://huggingface.co/spaces)\n"
          ]
        },
        {
          "output_type": "display_data",
          "data": {
            "text/plain": [
              "<IPython.core.display.HTML object>"
            ],
            "text/html": [
              "<div><iframe src=\"https://1a1b7593608ea75e1c.gradio.live\" width=\"100%\" height=\"500\" allow=\"autoplay; camera; microphone; clipboard-read; clipboard-write;\" frameborder=\"0\" allowfullscreen></iframe></div>"
            ]
          },
          "metadata": {}
        },
        {
          "output_type": "execute_result",
          "data": {
            "text/plain": []
          },
          "metadata": {},
          "execution_count": 4
        }
      ]
    }
  ]
}